{
 "cells": [
  {
   "cell_type": "markdown",
   "metadata": {},
   "source": [
    "Q1. Write a Python function that takes in two arrays of data and calculates the F-value for a variance ratio\n",
    "test. The function should return the F-value and the corresponding p-value for the test."
   ]
  },
  {
   "cell_type": "code",
   "execution_count": 7,
   "metadata": {},
   "outputs": [
    {
     "name": "stdout",
     "output_type": "stream",
     "text": [
      "Degree of freedom 1: 24\n",
      "Degree of freedom 2: 19\n",
      "f-Statistics: 0.6799687527366072\n",
      "P-value: 0.18441857317507168\n"
     ]
    }
   ],
   "source": [
    "import pandas as pd \n",
    "import numpy as np \n",
    "import scipy.stats as stats\n",
    "\n",
    "#Create the arryay of datas for two groups\n",
    "group1 =np.random.rand(25)\n",
    "group2=np.random.rand(20)\n",
    "\n",
    "#calculate the sample variances\n",
    "variance1=np.var(group1, ddof=1)\n",
    "variance2=np.var(group2,ddof=1)\n",
    "\n",
    "#claculate the f-statistics\n",
    "f_value = variance1/variance2\n",
    "\n",
    "#calculate the degree of freedom \n",
    "df1=len(group1) -1 \n",
    "df2=len(group2)-1\n",
    "\n",
    "#calculate the p-value\n",
    "p_value = stats.f.cdf(f_value,df1,df2)\n",
    "\n",
    "#print the results\n",
    "print(\"Degree of freedom 1:\", df1)\n",
    "print(\"Degree of freedom 2:\",df2)\n",
    "print(\"f-Statistics:\", f_value)\n",
    "print(\"P-value:\", p_value)"
   ]
  },
  {
   "cell_type": "markdown",
   "metadata": {},
   "source": [
    "Q2. Given a significance level of 0.05 and the degrees of freedom for the numerator and denominator of an\n",
    "F-distribution, write a Python function that returns the critical F-value for a two-tailed test."
   ]
  },
  {
   "cell_type": "code",
   "execution_count": 8,
   "metadata": {},
   "outputs": [
    {
     "name": "stdout",
     "output_type": "stream",
     "text": [
      "Critical F-value: 3.858698666273216\n"
     ]
    }
   ],
   "source": [
    "from scipy.stats import f\n",
    "\n",
    "def critical_f_value(alpha, df_num, df_denom):\n",
    "    '''  \n",
    "    Calculate the critical F-value for a two-tailed test.\n",
    "    \n",
    "    Parameters:\n",
    "    ->alpha:Significance level\n",
    "    ->df_num:Degree of freedom for the numerator\n",
    "    ->df_denom:Degree of freedom for the denominator\n",
    "    \n",
    "    Returns:\n",
    "    -Critical F-value\n",
    "    \n",
    "    '''\n",
    "    \n",
    "    alpha_over_2 = alpha/2\n",
    "    critical_value = f.ppf(1-alpha_over_2,df_num,df_denom)\n",
    "    return critical_value\n",
    "\n",
    "#Example of usecase\n",
    "significance_level = 0.05\n",
    "degree_of_freedom_num = 3\n",
    "degree_of_freedom_denom = 20\n",
    "\n",
    "critical_f = critical_f_value(significance_level, degree_of_freedom_num, degree_of_freedom_denom)    \n",
    "print(f\"Critical F-value: {critical_f}\")"
   ]
  },
  {
   "cell_type": "markdown",
   "metadata": {},
   "source": [
    "Q3. Write a Python program that generates random samples from two normal distributions with known\n",
    "\n",
    "variances and uses an F-test to determine if the variances are equal. The program should output the F-\n",
    "value, degrees of freedom, and p-value for the test."
   ]
  },
  {
   "cell_type": "code",
   "execution_count": 15,
   "metadata": {},
   "outputs": [
    {
     "name": "stdout",
     "output_type": "stream",
     "text": [
      "F-Test Results:\n",
      "F-value: 0.4030463392763856\n",
      "Degrees of Freedom (numerator): 99\n",
      "Degrees of Freedom (denominator): 99\n",
      "P-value: 0.9999954041876621\n"
     ]
    }
   ],
   "source": [
    "import numpy as np\n",
    "from scipy.stats import f\n",
    "\n",
    "# Set seed for reproducibility\n",
    "np.random.seed(42)\n",
    "\n",
    "# Parameters\n",
    "mean1 = 10\n",
    "variance1 = 4  # Known variance for the first normal distribution\n",
    "\n",
    "mean2 = 15\n",
    "variance2 = 9  # Known variance for the second normal distribution\n",
    "\n",
    "# Number of samples\n",
    "sample_size = 100\n",
    "\n",
    "# Generate random samples\n",
    "samples1 = np.random.normal(loc=mean1, scale=np.sqrt(variance1), size=sample_size)\n",
    "samples2 = np.random.normal(loc=mean2, scale=np.sqrt(variance2), size=sample_size)\n",
    "\n",
    "# Perform F-test\n",
    "f_value, p_value = np.var(samples1, ddof=1) / np.var(samples2, ddof=1), f.sf(np.var(samples1, ddof=1) / np.var(samples2, ddof=1), len(samples1)-1, len(samples2)-1)\n",
    "\n",
    "# Degrees of freedom\n",
    "df_num = len(samples1) - 1\n",
    "df_denom = len(samples2) - 1\n",
    "\n",
    "# Display results\n",
    "print(\"F-Test Results:\")\n",
    "print(f\"F-value: {f_value}\")\n",
    "print(f\"Degrees of Freedom (numerator): {df_num}\")\n",
    "print(f\"Degrees of Freedom (denominator): {df_denom}\")\n",
    "print(f\"P-value: {p_value}\")\n"
   ]
  },
  {
   "cell_type": "markdown",
   "metadata": {},
   "source": [
    "Q4.The variances of two populations are known to be 10 and 15. A sample of 12 observations is taken from\n",
    "each population. Conduct an F-test at the 5% significance level to determine if the variances are\n",
    "significantly different."
   ]
  },
  {
   "cell_type": "code",
   "execution_count": 16,
   "metadata": {},
   "outputs": [
    {
     "name": "stdout",
     "output_type": "stream",
     "text": [
      "F-Test Results:\n",
      "F-value: 0.3694885544859157\n",
      "Degrees of Freedom (numerator): 11\n",
      "Degrees of Freedom (denominator): 11\n",
      "P-value: 0.9433090737862293\n",
      "Fail to reject the null hypothesis. Variances are not significantly different.\n"
     ]
    }
   ],
   "source": [
    "import numpy as np\n",
    "from scipy.stats import f\n",
    "\n",
    "# Set seed for reproducibility\n",
    "np.random.seed(42)\n",
    "\n",
    "# Parameters\n",
    "variance1 = 10  # Known variance for the first population\n",
    "variance2 = 15  # Known variance for the second population\n",
    "\n",
    "# Number of observations in each sample\n",
    "sample_size = 12\n",
    "\n",
    "# Generate random samples\n",
    "samples1 = np.random.normal(loc=0, scale=np.sqrt(variance1), size=sample_size)\n",
    "samples2 = np.random.normal(loc=0, scale=np.sqrt(variance2), size=sample_size)\n",
    "\n",
    "# Perform F-test\n",
    "f_value = np.var(samples1, ddof=1) / np.var(samples2, ddof=1)\n",
    "p_value = f.sf(f_value, len(samples1)-1, len(samples2)-1)\n",
    "\n",
    "# Significance level\n",
    "alpha = 0.05\n",
    "\n",
    "# Print results\n",
    "print(\"F-Test Results:\")\n",
    "print(f\"F-value: {f_value}\")\n",
    "print(f\"Degrees of Freedom (numerator): {len(samples1)-1}\")\n",
    "print(f\"Degrees of Freedom (denominator): {len(samples2)-1}\")\n",
    "print(f\"P-value: {p_value}\")\n",
    "\n",
    "# Compare p-value with significance level\n",
    "if p_value < alpha:\n",
    "    print(\"Reject the null hypothesis. Variances are significantly different.\")\n",
    "else:\n",
    "    print(\"Fail to reject the null hypothesis. Variances are not significantly different.\")\n"
   ]
  },
  {
   "cell_type": "markdown",
   "metadata": {},
   "source": [
    "Q5. A manufacturer claims that the variance of the diameter of a certain product is 0.005. A sample of 25\n",
    "products is taken, and the sample variance is found to be 0.006. Conduct an F-test at the 1% significance\n",
    "level to determine if the claim is justified."
   ]
  },
  {
   "cell_type": "code",
   "execution_count": 17,
   "metadata": {},
   "outputs": [
    {
     "name": "stdout",
     "output_type": "stream",
     "text": [
      "F-Test Results:\n",
      "F-value: 1.2\n",
      "Degrees of Freedom (numerator): 24\n",
      "Degrees of Freedom (denominator): 1\n",
      "P-value: 0.629609961995936\n",
      "Fail to reject the null hypothesis. The claim is justified.\n"
     ]
    }
   ],
   "source": [
    "from scipy.stats import f\n",
    "\n",
    "# Claimed population variance\n",
    "claimed_variance = 0.005\n",
    "\n",
    "# Sample variance\n",
    "sample_variance = 0.006\n",
    "\n",
    "# Sample size\n",
    "sample_size = 25\n",
    "\n",
    "# Degrees of freedom\n",
    "df_num = sample_size - 1  # numerator degrees of freedom\n",
    "df_denom = 1  # denominator degrees of freedom (since we are comparing to a single value)\n",
    "\n",
    "# Calculate F-value\n",
    "f_value = sample_variance / claimed_variance\n",
    "\n",
    "# Calculate p-value\n",
    "p_value = f.sf(f_value, df_num, df_denom)\n",
    "\n",
    "# Significance level\n",
    "alpha = 0.01  # 1% significance level\n",
    "\n",
    "# Print results\n",
    "print(\"F-Test Results:\")\n",
    "print(f\"F-value: {f_value}\")\n",
    "print(f\"Degrees of Freedom (numerator): {df_num}\")\n",
    "print(f\"Degrees of Freedom (denominator): {df_denom}\")\n",
    "print(f\"P-value: {p_value}\")\n",
    "\n",
    "# Compare p-value with significance level\n",
    "if p_value < alpha:\n",
    "    print(\"Reject the null hypothesis. The claim is not justified.\")\n",
    "else:\n",
    "    print(\"Fail to reject the null hypothesis. The claim is justified.\")\n"
   ]
  },
  {
   "cell_type": "markdown",
   "metadata": {},
   "source": [
    "Q6. Write a Python function that takes in the degrees of freedom for the numerator and denominator of an\n",
    "F-distribution and calculates the mean and variance of the distribution. The function should return the\n",
    "mean and variance as a tuple."
   ]
  },
  {
   "cell_type": "code",
   "execution_count": 18,
   "metadata": {},
   "outputs": [
    {
     "name": "stdout",
     "output_type": "stream",
     "text": [
      "Mean: 1.25\n",
      "Variance: 0.3385416666666667\n"
     ]
    }
   ],
   "source": [
    "def f_distribution_mean_variance(df_num, df_denom):\n",
    "    \"\"\"\n",
    "    Calculate the mean and variance of an F-distribution.\n",
    "\n",
    "    Parameters:\n",
    "    - df_num: Degrees of freedom for the numerator\n",
    "    - df_denom: Degrees of freedom for the denominator\n",
    "\n",
    "    Returns:\n",
    "    - Tuple containing mean and variance\n",
    "    \"\"\"\n",
    "    if df_num <= 0 or df_denom <= 0:\n",
    "        raise ValueError(\"Degrees of freedom must be greater than zero.\")\n",
    "\n",
    "    # Mean\n",
    "    mean = df_denom / (df_denom - 2) if df_denom > 2 else None\n",
    "\n",
    "    # Variance\n",
    "    variance_denom = (2 * (df_denom ** 2) * (df_num + df_denom - 2)) / (df_num * (df_denom - 2) ** 2 * (df_denom - 4))\n",
    "    variance = 2 * (df_denom ** 2) * (df_num + df_denom - 2) / (df_num * (df_denom - 2) ** 2 * (df_denom - 4) * (df_denom - 6)) if df_denom > 6 else None\n",
    "\n",
    "    return mean, variance\n",
    "\n",
    "# Example usage:\n",
    "df_num = 5\n",
    "df_denom = 10\n",
    "\n",
    "mean, variance = f_distribution_mean_variance(df_num, df_denom)\n",
    "print(f\"Mean: {mean}\")\n",
    "print(f\"Variance: {variance}\")\n"
   ]
  },
  {
   "cell_type": "markdown",
   "metadata": {},
   "source": [
    "Q7. A random sample of 10 measurements is taken from a normal population with unknown variance. The\n",
    "sample variance is found to be 25. Another random sample of 15 measurements is taken from another\n",
    "normal population with unknown variance, and the sample variance is found to be 20. Conduct an F-test\n",
    "at the 10% significance level to determine if the variances are significantly different."
   ]
  },
  {
   "cell_type": "code",
   "execution_count": 19,
   "metadata": {},
   "outputs": [
    {
     "name": "stdout",
     "output_type": "stream",
     "text": [
      "F-Test Results:\n",
      "F-value: 1.25\n",
      "Degrees of Freedom (numerator): 9\n",
      "Degrees of Freedom (denominator): 14\n",
      "P-value: 0.3416097191292974\n",
      "Fail to reject the null hypothesis. Variances are not significantly different.\n"
     ]
    }
   ],
   "source": [
    "from scipy.stats import f\n",
    "\n",
    "# Sample variances\n",
    "sample_variance1 = 25\n",
    "sample_variance2 = 20\n",
    "\n",
    "# Sample sizes\n",
    "sample_size1 = 10\n",
    "sample_size2 = 15\n",
    "\n",
    "# Degrees of freedom\n",
    "df_num = sample_size1 - 1  # numerator degrees of freedom\n",
    "df_denom = sample_size2 - 1  # denominator degrees of freedom\n",
    "\n",
    "# Calculate F-value\n",
    "f_value = sample_variance1 / sample_variance2\n",
    "\n",
    "# Calculate p-value\n",
    "p_value = f.sf(f_value, df_num, df_denom)\n",
    "\n",
    "# Significance level\n",
    "alpha = 0.10  # 10% significance level\n",
    "\n",
    "# Print results\n",
    "print(\"F-Test Results:\")\n",
    "print(f\"F-value: {f_value}\")\n",
    "print(f\"Degrees of Freedom (numerator): {df_num}\")\n",
    "print(f\"Degrees of Freedom (denominator): {df_denom}\")\n",
    "print(f\"P-value: {p_value}\")\n",
    "\n",
    "# Compare p-value with significance level\n",
    "if p_value < alpha:\n",
    "    print(\"Reject the null hypothesis. Variances are significantly different.\")\n",
    "else:\n",
    "    print(\"Fail to reject the null hypothesis. Variances are not significantly different.\")\n"
   ]
  },
  {
   "cell_type": "markdown",
   "metadata": {},
   "source": [
    "Q8. The following data represent the waiting times in minutes at two different restaurants on a Saturday\n",
    "night: Restaurant A: 24, 25, 28, 23, 22, 20, 27; Restaurant B: 31, 33, 35, 30, 32, 36. Conduct an F-test at the 5%\n",
    "significance level to determine if the variances are significantly different."
   ]
  },
  {
   "cell_type": "code",
   "execution_count": 20,
   "metadata": {},
   "outputs": [
    {
     "name": "stdout",
     "output_type": "stream",
     "text": [
      "F-Test Results:\n",
      "F-value: 1.4551907719609583\n",
      "Degrees of Freedom (numerator): 6\n",
      "Degrees of Freedom (denominator): 5\n",
      "P-value: 0.34874078739687414\n",
      "Fail to reject the null hypothesis. Variances are not significantly different.\n"
     ]
    }
   ],
   "source": [
    "from scipy.stats import f\n",
    "\n",
    "# Waiting times data\n",
    "waiting_times_a = [24, 25, 28, 23, 22, 20, 27]\n",
    "waiting_times_b = [31, 33, 35, 30, 32, 36]\n",
    "\n",
    "# Sample variances\n",
    "sample_variance_a = sum((x - sum(waiting_times_a)/len(waiting_times_a))**2 for x in waiting_times_a) / (len(waiting_times_a) - 1)\n",
    "sample_variance_b = sum((x - sum(waiting_times_b)/len(waiting_times_b))**2 for x in waiting_times_b) / (len(waiting_times_b) - 1)\n",
    "\n",
    "# Sample sizes\n",
    "sample_size_a = len(waiting_times_a)\n",
    "sample_size_b = len(waiting_times_b)\n",
    "\n",
    "# Degrees of freedom\n",
    "df_num = sample_size_a - 1  # numerator degrees of freedom\n",
    "df_denom = sample_size_b - 1  # denominator degrees of freedom\n",
    "\n",
    "# Calculate F-value\n",
    "f_value = sample_variance_a / sample_variance_b\n",
    "\n",
    "# Calculate p-value\n",
    "p_value = f.sf(f_value, df_num, df_denom)\n",
    "\n",
    "# Significance level\n",
    "alpha = 0.05  # 5% significance level\n",
    "\n",
    "# Print results\n",
    "print(\"F-Test Results:\")\n",
    "print(f\"F-value: {f_value}\")\n",
    "print(f\"Degrees of Freedom (numerator): {df_num}\")\n",
    "print(f\"Degrees of Freedom (denominator): {df_denom}\")\n",
    "print(f\"P-value: {p_value}\")\n",
    "\n",
    "# Compare p-value with significance level\n",
    "if p_value < alpha:\n",
    "    print(\"Reject the null hypothesis. Variances are significantly different.\")\n",
    "else:\n",
    "    print(\"Fail to reject the null hypothesis. Variances are not significantly different.\")\n"
   ]
  },
  {
   "cell_type": "markdown",
   "metadata": {},
   "source": [
    "Q9. The following data represent the test scores of two groups of students: Group A: 80, 85, 90, 92, 87, 83;\n",
    "Group B: 75, 78, 82, 79, 81, 84. Conduct an F-test at the 1% significance level to determine if the variances\n",
    "are significantly different."
   ]
  },
  {
   "cell_type": "code",
   "execution_count": 21,
   "metadata": {},
   "outputs": [
    {
     "name": "stdout",
     "output_type": "stream",
     "text": [
      "F-Test Results:\n",
      "F-value: 1.9442622950819677\n",
      "Degrees of Freedom (numerator): 5\n",
      "Degrees of Freedom (denominator): 5\n",
      "P-value: 0.2415521774535344\n",
      "Fail to reject the null hypothesis. Variances are not significantly different.\n"
     ]
    }
   ],
   "source": [
    "from scipy.stats import f\n",
    "\n",
    "# Test scores data\n",
    "group_a_scores = [80, 85, 90, 92, 87, 83]\n",
    "group_b_scores = [75, 78, 82, 79, 81, 84]\n",
    "\n",
    "# Sample variances\n",
    "sample_variance_a = sum((x - sum(group_a_scores)/len(group_a_scores))**2 for x in group_a_scores) / (len(group_a_scores) - 1)\n",
    "sample_variance_b = sum((x - sum(group_b_scores)/len(group_b_scores))**2 for x in group_b_scores) / (len(group_b_scores) - 1)\n",
    "\n",
    "# Sample sizes\n",
    "sample_size_a = len(group_a_scores)\n",
    "sample_size_b = len(group_b_scores)\n",
    "\n",
    "# Degrees of freedom\n",
    "df_num = sample_size_a - 1  # numerator degrees of freedom\n",
    "df_denom = sample_size_b - 1  # denominator degrees of freedom\n",
    "\n",
    "# Calculate F-value\n",
    "f_value = sample_variance_a / sample_variance_b\n",
    "\n",
    "# Calculate p-value\n",
    "p_value = f.sf(f_value, df_num, df_denom)\n",
    "\n",
    "# Significance level\n",
    "alpha = 0.01  # 1% significance level\n",
    "\n",
    "# Print results\n",
    "print(\"F-Test Results:\")\n",
    "print(f\"F-value: {f_value}\")\n",
    "print(f\"Degrees of Freedom (numerator): {df_num}\")\n",
    "print(f\"Degrees of Freedom (denominator): {df_denom}\")\n",
    "print(f\"P-value: {p_value}\")\n",
    "\n",
    "# Compare p-value with significance level\n",
    "if p_value < alpha:\n",
    "    print(\"Reject the null hypothesis. Variances are significantly different.\")\n",
    "else:\n",
    "    print(\"Fail to reject the null hypothesis. Variances are not significantly different.\")\n"
   ]
  },
  {
   "cell_type": "code",
   "execution_count": null,
   "metadata": {},
   "outputs": [],
   "source": []
  }
 ],
 "metadata": {
  "kernelspec": {
   "display_name": "Python 3",
   "language": "python",
   "name": "python3"
  },
  "language_info": {
   "codemirror_mode": {
    "name": "ipython",
    "version": 3
   },
   "file_extension": ".py",
   "mimetype": "text/x-python",
   "name": "python",
   "nbconvert_exporter": "python",
   "pygments_lexer": "ipython3",
   "version": "3.11.7"
  }
 },
 "nbformat": 4,
 "nbformat_minor": 2
}
